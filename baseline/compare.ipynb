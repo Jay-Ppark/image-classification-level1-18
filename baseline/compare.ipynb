{
 "cells": [
  {
   "cell_type": "code",
   "execution_count": 19,
   "source": [
    "import pandas as pd\n",
    "output_path = '/opt/ml/Haewon/baseline/output/output_exp14.csv'\n",
    "output = pd.read_csv(output_path)\n",
    "output1_path = '/opt/ml/Haewon/baseline/output/output_exp13.csv'\n",
    "output1 = pd.read_csv(output1_path)\n",
    "compare_path = '/opt/ml/Haewon/baseline/output/compare.csv'\n",
    "compare = pd.read_csv(compare_path)\n",
    "compare1_path = '/opt/ml/Haewon/baseline/output/compare1.csv'\n",
    "compare1 = pd.read_csv(compare1_path)"
   ],
   "outputs": [],
   "metadata": {}
  },
  {
   "cell_type": "code",
   "execution_count": 20,
   "source": [
    "count = 0\n",
    "for c, o in zip(list(output1['ans']), list(output['ans'])):\n",
    "    if c == o:\n",
    "        count += 1\n",
    "print(count / 12600)"
   ],
   "outputs": [
    {
     "output_type": "stream",
     "name": "stdout",
     "text": [
      "0.8583333333333333\n"
     ]
    }
   ],
   "metadata": {}
  },
  {
   "cell_type": "code",
   "execution_count": 17,
   "source": [
    "count = 0\n",
    "for c, o in zip(list(compare['ans']), list(output['ans'])):\n",
    "    if c == o:\n",
    "        count += 1\n",
    "print(count / 12600)"
   ],
   "outputs": [
    {
     "output_type": "stream",
     "name": "stdout",
     "text": [
      "0.7076984126984127\n"
     ]
    }
   ],
   "metadata": {}
  },
  {
   "cell_type": "code",
   "execution_count": 18,
   "source": [
    "count = 0\n",
    "for c, o in zip(list(compare1['ans']), list(output['ans'])):\n",
    "    if c == o:\n",
    "        count += 1\n",
    "print(count / 12600)"
   ],
   "outputs": [
    {
     "output_type": "stream",
     "name": "stdout",
     "text": [
      "0.7756349206349207\n"
     ]
    }
   ],
   "metadata": {}
  }
 ],
 "metadata": {
  "orig_nbformat": 4,
  "language_info": {
   "name": "python",
   "version": "3.8.5",
   "mimetype": "text/x-python",
   "codemirror_mode": {
    "name": "ipython",
    "version": 3
   },
   "pygments_lexer": "ipython3",
   "nbconvert_exporter": "python",
   "file_extension": ".py"
  },
  "kernelspec": {
   "name": "python3",
   "display_name": "Python 3.8.5 64-bit ('base': conda)"
  },
  "interpreter": {
   "hash": "98b0a9b7b4eaaa670588a142fd0a9b87eaafe866f1db4228be72b4211d12040f"
  }
 },
 "nbformat": 4,
 "nbformat_minor": 2
}